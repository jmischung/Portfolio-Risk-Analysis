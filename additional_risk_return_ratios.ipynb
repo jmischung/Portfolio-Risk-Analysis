{
 "cells": [
  {
   "cell_type": "markdown",
   "id": "395735a8-6156-4562-b144-3f3ec0934826",
   "metadata": {},
   "source": [
    "# Measures of Risk-Adjusted Returns\n",
    "---\n",
    "__Date Created:__ 2021-12-26  \n",
    "__Author:__ Josh Mischung  \n",
    "__email:__ josh@knoasis.io  \n",
    "\n",
    "__Dataset:__ [`whale_navs.csv`](https://github.com/jmischung/Portfolio-Risk-Analysis/blob/main/Resources/whale_navs.csv)\n",
    "\n",
    "__Comments on the Purpose & the Dataset:__  \n",
    "The purpose of this notebook is to expand the exploration of risk-reward metrics used in the [`risk_return_analysis.ipynb`](https://github.com/jmischung/Portfolio-Risk-Analysis/blob/main/risk_return_analysis.ipynb) notebook. Along with the Sharpe Ratio, the Sortino, Calmar, Information, and M2 Ratios will be calculated to see what additional information they might provide for portfolio selection.\n",
    "\n",
    "<br>\n",
    "\n",
    "## Imports\n",
    "---"
   ]
  },
  {
   "cell_type": "code",
   "execution_count": 1,
   "id": "a4c029da-3d95-496c-91e5-067e7349c245",
   "metadata": {
    "execution": {
     "iopub.execute_input": "2021-12-27T21:15:39.430524Z",
     "iopub.status.busy": "2021-12-27T21:15:39.430256Z",
     "iopub.status.idle": "2021-12-27T21:15:41.606048Z",
     "shell.execute_reply": "2021-12-27T21:15:41.605264Z",
     "shell.execute_reply.started": "2021-12-27T21:15:39.430498Z"
    }
   },
   "outputs": [],
   "source": [
    "# Import the required libraries and dependencies\n",
    "import numpy as np\n",
    "import pandas as pd\n",
    "import matplotlib.pyplot as plt\n",
    "import seaborn as sns\n",
    "from pathlib import Path\n",
    "\n",
    "plt.style.use('ggplot')\n",
    "%matplotlib inline"
   ]
  },
  {
   "cell_type": "markdown",
   "id": "b8e137b9-9970-4ded-bfea-11acb1961013",
   "metadata": {},
   "source": [
    "## Load Data  \n",
    "---"
   ]
  },
  {
   "cell_type": "code",
   "execution_count": 2,
   "id": "84671dd2-7fd8-4407-8967-37ff85150ee2",
   "metadata": {
    "execution": {
     "iopub.execute_input": "2021-12-27T21:15:41.607543Z",
     "iopub.status.busy": "2021-12-27T21:15:41.607156Z",
     "iopub.status.idle": "2021-12-27T21:15:41.631051Z",
     "shell.execute_reply": "2021-12-27T21:15:41.630018Z",
     "shell.execute_reply.started": "2021-12-27T21:15:41.607521Z"
    }
   },
   "outputs": [
    {
     "data": {
      "text/html": [
       "<div>\n",
       "<style scoped>\n",
       "    .dataframe tbody tr th:only-of-type {\n",
       "        vertical-align: middle;\n",
       "    }\n",
       "\n",
       "    .dataframe tbody tr th {\n",
       "        vertical-align: top;\n",
       "    }\n",
       "\n",
       "    .dataframe thead th {\n",
       "        text-align: right;\n",
       "    }\n",
       "</style>\n",
       "<table border=\"1\" class=\"dataframe\">\n",
       "  <thead>\n",
       "    <tr style=\"text-align: right;\">\n",
       "      <th></th>\n",
       "      <th>soros_fund_management_llc</th>\n",
       "      <th>paulson_&amp;_co.inc.</th>\n",
       "      <th>tiger_global_management_llc</th>\n",
       "      <th>berkshire_hathaway_inc</th>\n",
       "      <th>s&amp;p_500</th>\n",
       "    </tr>\n",
       "    <tr>\n",
       "      <th>date</th>\n",
       "      <th></th>\n",
       "      <th></th>\n",
       "      <th></th>\n",
       "      <th></th>\n",
       "      <th></th>\n",
       "    </tr>\n",
       "  </thead>\n",
       "  <tbody>\n",
       "    <tr>\n",
       "      <th>2014-10-01</th>\n",
       "      <td>31.950240</td>\n",
       "      <td>14.991826</td>\n",
       "      <td>59.977830</td>\n",
       "      <td>51.948712</td>\n",
       "      <td>194.35</td>\n",
       "    </tr>\n",
       "    <tr>\n",
       "      <th>2014-10-02</th>\n",
       "      <td>31.936110</td>\n",
       "      <td>14.994072</td>\n",
       "      <td>59.978626</td>\n",
       "      <td>51.957619</td>\n",
       "      <td>194.38</td>\n",
       "    </tr>\n",
       "    <tr>\n",
       "      <th>2014-10-03</th>\n",
       "      <td>31.969707</td>\n",
       "      <td>14.999596</td>\n",
       "      <td>60.002264</td>\n",
       "      <td>52.022484</td>\n",
       "      <td>196.52</td>\n",
       "    </tr>\n",
       "    <tr>\n",
       "      <th>2014-10-06</th>\n",
       "      <td>32.048215</td>\n",
       "      <td>14.999471</td>\n",
       "      <td>60.006244</td>\n",
       "      <td>52.036387</td>\n",
       "      <td>196.29</td>\n",
       "    </tr>\n",
       "    <tr>\n",
       "      <th>2014-10-07</th>\n",
       "      <td>31.964216</td>\n",
       "      <td>14.994720</td>\n",
       "      <td>59.993735</td>\n",
       "      <td>52.005864</td>\n",
       "      <td>193.26</td>\n",
       "    </tr>\n",
       "  </tbody>\n",
       "</table>\n",
       "</div>"
      ],
      "text/plain": [
       "            soros_fund_management_llc  paulson_&_co.inc.  \\\n",
       "date                                                       \n",
       "2014-10-01                  31.950240          14.991826   \n",
       "2014-10-02                  31.936110          14.994072   \n",
       "2014-10-03                  31.969707          14.999596   \n",
       "2014-10-06                  32.048215          14.999471   \n",
       "2014-10-07                  31.964216          14.994720   \n",
       "\n",
       "            tiger_global_management_llc  berkshire_hathaway_inc  s&p_500  \n",
       "date                                                                      \n",
       "2014-10-01                    59.977830               51.948712   194.35  \n",
       "2014-10-02                    59.978626               51.957619   194.38  \n",
       "2014-10-03                    60.002264               52.022484   196.52  \n",
       "2014-10-06                    60.006244               52.036387   196.29  \n",
       "2014-10-07                    59.993735               52.005864   193.26  "
      ]
     },
     "execution_count": 2,
     "metadata": {},
     "output_type": "execute_result"
    }
   ],
   "source": [
    "# Import the data by reading in the CSV file and setting the DatetimeIndex \n",
    "# Review the first 5 rows of the DataFrame\n",
    "fund_df = pd.read_csv(\n",
    "    Path('Resources/whale_navs.csv'),\n",
    "    index_col='date',\n",
    "    parse_dates=True,\n",
    "    infer_datetime_format=True\n",
    ")\n",
    "fund_df.columns = [name.lower().replace(' ', '_') for name in fund_df.columns]\n",
    "fund_df.head()"
   ]
  },
  {
   "cell_type": "markdown",
   "id": "b9011b84-456c-4f4f-abc9-406c8ee9c172",
   "metadata": {},
   "source": [
    "## Sharpe Ratio  \n",
    "---  \n",
    "The Sharpe Ratio is a commonly used metric to assess the returns earned beyond the risk-free rate (which in recent history is often assumed to be zero.) per unit of risk, represented by annualized volatility. One drawback to the Sharpe Ratio is that it penalizes upside volatility (greater returns than normal) equally to downside volatility."
   ]
  },
  {
   "cell_type": "code",
   "execution_count": 3,
   "id": "4f999ce3-077d-4c10-9710-4eeb9a7aa22d",
   "metadata": {
    "execution": {
     "iopub.execute_input": "2021-12-27T21:15:41.632340Z",
     "iopub.status.busy": "2021-12-27T21:15:41.631970Z",
     "iopub.status.idle": "2021-12-27T21:15:41.646451Z",
     "shell.execute_reply": "2021-12-27T21:15:41.645671Z",
     "shell.execute_reply.started": "2021-12-27T21:15:41.632312Z"
    },
    "tags": []
   },
   "outputs": [
    {
     "data": {
      "text/html": [
       "<div>\n",
       "<style scoped>\n",
       "    .dataframe tbody tr th:only-of-type {\n",
       "        vertical-align: middle;\n",
       "    }\n",
       "\n",
       "    .dataframe tbody tr th {\n",
       "        vertical-align: top;\n",
       "    }\n",
       "\n",
       "    .dataframe thead th {\n",
       "        text-align: right;\n",
       "    }\n",
       "</style>\n",
       "<table border=\"1\" class=\"dataframe\">\n",
       "  <thead>\n",
       "    <tr style=\"text-align: right;\">\n",
       "      <th></th>\n",
       "      <th>soros_fund_management_llc</th>\n",
       "      <th>paulson_&amp;_co.inc.</th>\n",
       "      <th>tiger_global_management_llc</th>\n",
       "      <th>berkshire_hathaway_inc</th>\n",
       "      <th>s&amp;p_500</th>\n",
       "    </tr>\n",
       "    <tr>\n",
       "      <th>date</th>\n",
       "      <th></th>\n",
       "      <th></th>\n",
       "      <th></th>\n",
       "      <th></th>\n",
       "      <th></th>\n",
       "    </tr>\n",
       "  </thead>\n",
       "  <tbody>\n",
       "    <tr>\n",
       "      <th>2014-10-02</th>\n",
       "      <td>-0.000442</td>\n",
       "      <td>0.000150</td>\n",
       "      <td>0.000013</td>\n",
       "      <td>0.000171</td>\n",
       "      <td>0.000154</td>\n",
       "    </tr>\n",
       "    <tr>\n",
       "      <th>2014-10-03</th>\n",
       "      <td>0.001052</td>\n",
       "      <td>0.000368</td>\n",
       "      <td>0.000394</td>\n",
       "      <td>0.001248</td>\n",
       "      <td>0.011009</td>\n",
       "    </tr>\n",
       "    <tr>\n",
       "      <th>2014-10-06</th>\n",
       "      <td>0.002456</td>\n",
       "      <td>-0.000008</td>\n",
       "      <td>0.000066</td>\n",
       "      <td>0.000267</td>\n",
       "      <td>-0.001170</td>\n",
       "    </tr>\n",
       "    <tr>\n",
       "      <th>2014-10-07</th>\n",
       "      <td>-0.002621</td>\n",
       "      <td>-0.000317</td>\n",
       "      <td>-0.000208</td>\n",
       "      <td>-0.000587</td>\n",
       "      <td>-0.015436</td>\n",
       "    </tr>\n",
       "    <tr>\n",
       "      <th>2014-10-08</th>\n",
       "      <td>0.000390</td>\n",
       "      <td>0.000369</td>\n",
       "      <td>0.000242</td>\n",
       "      <td>0.000842</td>\n",
       "      <td>0.017489</td>\n",
       "    </tr>\n",
       "  </tbody>\n",
       "</table>\n",
       "</div>"
      ],
      "text/plain": [
       "            soros_fund_management_llc  paulson_&_co.inc.  \\\n",
       "date                                                       \n",
       "2014-10-02                  -0.000442           0.000150   \n",
       "2014-10-03                   0.001052           0.000368   \n",
       "2014-10-06                   0.002456          -0.000008   \n",
       "2014-10-07                  -0.002621          -0.000317   \n",
       "2014-10-08                   0.000390           0.000369   \n",
       "\n",
       "            tiger_global_management_llc  berkshire_hathaway_inc   s&p_500  \n",
       "date                                                                       \n",
       "2014-10-02                     0.000013                0.000171  0.000154  \n",
       "2014-10-03                     0.000394                0.001248  0.011009  \n",
       "2014-10-06                     0.000066                0.000267 -0.001170  \n",
       "2014-10-07                    -0.000208               -0.000587 -0.015436  \n",
       "2014-10-08                     0.000242                0.000842  0.017489  "
      ]
     },
     "execution_count": 3,
     "metadata": {},
     "output_type": "execute_result"
    }
   ],
   "source": [
    "# Calculate daily returns.\n",
    "daily_returns = fund_df.pct_change().dropna(axis=0, how='all').copy()\n",
    "\n",
    "# Hold out the last year of returns to test\n",
    "# selected portfolios againgst.\n",
    "daily_returns_analyze = daily_returns[:-252]\n",
    "daily_returns_holdout = daily_returns[-252:]\n",
    "\n",
    "daily_returns_analyze.head()"
   ]
  },
  {
   "cell_type": "code",
   "execution_count": 4,
   "id": "268e348b-53a1-4896-89e3-77744bcc5a76",
   "metadata": {
    "execution": {
     "iopub.execute_input": "2021-12-27T21:15:41.648560Z",
     "iopub.status.busy": "2021-12-27T21:15:41.648098Z",
     "iopub.status.idle": "2021-12-27T21:15:41.660366Z",
     "shell.execute_reply": "2021-12-27T21:15:41.658813Z",
     "shell.execute_reply.started": "2021-12-27T21:15:41.648504Z"
    },
    "tags": []
   },
   "outputs": [
    {
     "data": {
      "text/html": [
       "<div>\n",
       "<style scoped>\n",
       "    .dataframe tbody tr th:only-of-type {\n",
       "        vertical-align: middle;\n",
       "    }\n",
       "\n",
       "    .dataframe tbody tr th {\n",
       "        vertical-align: top;\n",
       "    }\n",
       "\n",
       "    .dataframe thead th {\n",
       "        text-align: right;\n",
       "    }\n",
       "</style>\n",
       "<table border=\"1\" class=\"dataframe\">\n",
       "  <thead>\n",
       "    <tr style=\"text-align: right;\">\n",
       "      <th></th>\n",
       "      <th>sharpe_ratio</th>\n",
       "    </tr>\n",
       "  </thead>\n",
       "  <tbody>\n",
       "    <tr>\n",
       "      <th>soros_fund_management_llc</th>\n",
       "      <td>-0.218074</td>\n",
       "    </tr>\n",
       "    <tr>\n",
       "      <th>paulson_&amp;_co.inc.</th>\n",
       "      <td>-0.095913</td>\n",
       "    </tr>\n",
       "    <tr>\n",
       "      <th>tiger_global_management_llc</th>\n",
       "      <td>0.564186</td>\n",
       "    </tr>\n",
       "    <tr>\n",
       "      <th>berkshire_hathaway_inc</th>\n",
       "      <td>0.528679</td>\n",
       "    </tr>\n",
       "    <tr>\n",
       "      <th>s&amp;p_500</th>\n",
       "      <td>0.714305</td>\n",
       "    </tr>\n",
       "  </tbody>\n",
       "</table>\n",
       "</div>"
      ],
      "text/plain": [
       "                             sharpe_ratio\n",
       "soros_fund_management_llc       -0.218074\n",
       "paulson_&_co.inc.               -0.095913\n",
       "tiger_global_management_llc      0.564186\n",
       "berkshire_hathaway_inc           0.528679\n",
       "s&p_500                          0.714305"
      ]
     },
     "execution_count": 4,
     "metadata": {},
     "output_type": "execute_result"
    }
   ],
   "source": [
    "# Calculate the annual average return data for the for fund portfolios and the S&P 500\n",
    "# Use 252 as the number of trading days in the year\n",
    "# Review the annual average returns sorted from lowest to highest\n",
    "avg_annl_rtn = (daily_returns_analyze.mean() * 252)\n",
    "\n",
    "# Calculate the annualized Sharpe Ratios for each of the 4 portfolios and the S&P 500.\n",
    "# Review the Sharpe ratios sorted lowest to highest\n",
    "\n",
    "# Calculate the annualized standard deviaton.\n",
    "std_dev_annl = (daily_returns_analyze.std() * np.sqrt(252))\n",
    "\n",
    "# Calculate the Sharpe Ratio.\n",
    "risk_ratios_df = pd.DataFrame(\n",
    "    avg_annl_rtn / std_dev_annl,\n",
    "    columns=['sharpe_ratio']\n",
    ")\n",
    "risk_ratios_df"
   ]
  },
  {
   "cell_type": "markdown",
   "id": "daed28b1-0add-45cb-85ee-a36b456e166d",
   "metadata": {},
   "source": [
    "## Sortino Ratio  \n",
    "---  \n",
    "As noted above, the Sharpe Ratio penalizes upside volatility the same as downside volatility. Other metrics have been developed in an attempt to determine the downside exposure of a portfolio concerning its returns without penalizing investors and traders that can deliver upside returns beyond the average.  \n",
    "\n",
    "The Sortino Ratio achieves this by only considering days with negative returns when calculating the standard deviation. The effect is removing the penality to gains that might far exceed the mean returns."
   ]
  },
  {
   "cell_type": "code",
   "execution_count": 5,
   "id": "ca8cbb00-22ac-4467-90c1-03283cab80d4",
   "metadata": {
    "execution": {
     "iopub.execute_input": "2021-12-27T21:15:41.662437Z",
     "iopub.status.busy": "2021-12-27T21:15:41.662069Z",
     "iopub.status.idle": "2021-12-27T21:15:41.677507Z",
     "shell.execute_reply": "2021-12-27T21:15:41.676386Z",
     "shell.execute_reply.started": "2021-12-27T21:15:41.662405Z"
    },
    "tags": []
   },
   "outputs": [
    {
     "data": {
      "text/html": [
       "<div>\n",
       "<style scoped>\n",
       "    .dataframe tbody tr th:only-of-type {\n",
       "        vertical-align: middle;\n",
       "    }\n",
       "\n",
       "    .dataframe tbody tr th {\n",
       "        vertical-align: top;\n",
       "    }\n",
       "\n",
       "    .dataframe thead th {\n",
       "        text-align: right;\n",
       "    }\n",
       "</style>\n",
       "<table border=\"1\" class=\"dataframe\">\n",
       "  <thead>\n",
       "    <tr style=\"text-align: right;\">\n",
       "      <th></th>\n",
       "      <th>sharpe_ratio</th>\n",
       "      <th>sortino_ratio</th>\n",
       "    </tr>\n",
       "  </thead>\n",
       "  <tbody>\n",
       "    <tr>\n",
       "      <th>soros_fund_management_llc</th>\n",
       "      <td>-0.218074</td>\n",
       "      <td>-0.246034</td>\n",
       "    </tr>\n",
       "    <tr>\n",
       "      <th>paulson_&amp;_co.inc.</th>\n",
       "      <td>-0.095913</td>\n",
       "      <td>-0.117876</td>\n",
       "    </tr>\n",
       "    <tr>\n",
       "      <th>tiger_global_management_llc</th>\n",
       "      <td>0.564186</td>\n",
       "      <td>0.666718</td>\n",
       "    </tr>\n",
       "    <tr>\n",
       "      <th>berkshire_hathaway_inc</th>\n",
       "      <td>0.528679</td>\n",
       "      <td>0.701791</td>\n",
       "    </tr>\n",
       "    <tr>\n",
       "      <th>s&amp;p_500</th>\n",
       "      <td>0.714305</td>\n",
       "      <td>0.894260</td>\n",
       "    </tr>\n",
       "  </tbody>\n",
       "</table>\n",
       "</div>"
      ],
      "text/plain": [
       "                             sharpe_ratio  sortino_ratio\n",
       "soros_fund_management_llc       -0.218074      -0.246034\n",
       "paulson_&_co.inc.               -0.095913      -0.117876\n",
       "tiger_global_management_llc      0.564186       0.666718\n",
       "berkshire_hathaway_inc           0.528679       0.701791\n",
       "s&p_500                          0.714305       0.894260"
      ]
     },
     "execution_count": 5,
     "metadata": {},
     "output_type": "execute_result"
    }
   ],
   "source": [
    "# Calculate the annualized standard deviation\n",
    "# for losses only.\n",
    "neg_std_dev_annl = (daily_returns_analyze[daily_returns_analyze < 0].std() * np.sqrt(252))\n",
    "\n",
    "# Calculate the Sortino ratio\n",
    "risk_ratios_df['sortino_ratio'] = avg_annl_rtn / neg_std_dev_annl\n",
    "risk_ratios_df"
   ]
  },
  {
   "cell_type": "markdown",
   "id": "e0eb4813-6dec-4a36-8eec-84e0d9759bbd",
   "metadata": {
    "tags": []
   },
   "source": [
    "## Information Ratio  \n",
    "---  \n",
    "The Information Ratio function is almost identical to the Sharpe Ratio, with the exception that it replaces the risk-free rate of return with the returns of a benchmark. The SPY index is often used as the benchmark."
   ]
  },
  {
   "cell_type": "code",
   "execution_count": 6,
   "id": "a7732425-6f5d-462c-ba93-e4dc0ff0414e",
   "metadata": {
    "execution": {
     "iopub.execute_input": "2021-12-27T21:15:41.679874Z",
     "iopub.status.busy": "2021-12-27T21:15:41.679330Z",
     "iopub.status.idle": "2021-12-27T21:15:41.702690Z",
     "shell.execute_reply": "2021-12-27T21:15:41.701540Z",
     "shell.execute_reply.started": "2021-12-27T21:15:41.679828Z"
    },
    "tags": []
   },
   "outputs": [
    {
     "data": {
      "text/html": [
       "<div>\n",
       "<style scoped>\n",
       "    .dataframe tbody tr th:only-of-type {\n",
       "        vertical-align: middle;\n",
       "    }\n",
       "\n",
       "    .dataframe tbody tr th {\n",
       "        vertical-align: top;\n",
       "    }\n",
       "\n",
       "    .dataframe thead th {\n",
       "        text-align: right;\n",
       "    }\n",
       "</style>\n",
       "<table border=\"1\" class=\"dataframe\">\n",
       "  <thead>\n",
       "    <tr style=\"text-align: right;\">\n",
       "      <th></th>\n",
       "      <th>sharpe_ratio</th>\n",
       "      <th>sortino_ratio</th>\n",
       "      <th>information_ratio</th>\n",
       "    </tr>\n",
       "  </thead>\n",
       "  <tbody>\n",
       "    <tr>\n",
       "      <th>soros_fund_management_llc</th>\n",
       "      <td>-0.218074</td>\n",
       "      <td>-0.246034</td>\n",
       "      <td>-0.792278</td>\n",
       "    </tr>\n",
       "    <tr>\n",
       "      <th>paulson_&amp;_co.inc.</th>\n",
       "      <td>-0.095913</td>\n",
       "      <td>-0.117876</td>\n",
       "      <td>-0.776491</td>\n",
       "    </tr>\n",
       "    <tr>\n",
       "      <th>tiger_global_management_llc</th>\n",
       "      <td>0.564186</td>\n",
       "      <td>0.666718</td>\n",
       "      <td>-0.698932</td>\n",
       "    </tr>\n",
       "    <tr>\n",
       "      <th>berkshire_hathaway_inc</th>\n",
       "      <td>0.528679</td>\n",
       "      <td>0.701791</td>\n",
       "      <td>-0.610553</td>\n",
       "    </tr>\n",
       "    <tr>\n",
       "      <th>s&amp;p_500</th>\n",
       "      <td>0.714305</td>\n",
       "      <td>0.894260</td>\n",
       "      <td>NaN</td>\n",
       "    </tr>\n",
       "  </tbody>\n",
       "</table>\n",
       "</div>"
      ],
      "text/plain": [
       "                             sharpe_ratio  sortino_ratio  information_ratio\n",
       "soros_fund_management_llc       -0.218074      -0.246034          -0.792278\n",
       "paulson_&_co.inc.               -0.095913      -0.117876          -0.776491\n",
       "tiger_global_management_llc      0.564186       0.666718          -0.698932\n",
       "berkshire_hathaway_inc           0.528679       0.701791          -0.610553\n",
       "s&p_500                          0.714305       0.894260                NaN"
      ]
     },
     "execution_count": 6,
     "metadata": {},
     "output_type": "execute_result"
    }
   ],
   "source": [
    "# Calculate the Information Ratio\n",
    "returns_difference = daily_returns_analyze.drop('s&p_500', axis=1).sub(\n",
    "    daily_returns['s&p_500'],\n",
    "    axis='index'\n",
    ")\n",
    "annl_volatility = returns_difference.std() * np.sqrt(252)\n",
    "risk_ratios_df['information_ratio'] = (returns_difference.mean() * 252) / annl_volatility\n",
    "risk_ratios_df"
   ]
  },
  {
   "cell_type": "markdown",
   "id": "c4d44b72-6af4-46a7-ac63-4323ef2c8b12",
   "metadata": {},
   "source": [
    "## Modigliani Ratio (M2 Ratio)  \n",
    "---  \n",
    "The M2 Ratio is an adaptation of the Sharpe Ratio, calculated by multiplying the annualized standard deviation of a benchmark (again, often the SPY index) and multiplying it by the Sharpe Ratio. The risk-free rate is then added, but again in recent times, the risk-free rate of returns is often assumed to be zero."
   ]
  },
  {
   "cell_type": "code",
   "execution_count": 7,
   "id": "aa1b4a2c-f8a9-442a-81e9-be4e3d284bd8",
   "metadata": {
    "execution": {
     "iopub.execute_input": "2021-12-27T21:15:41.705227Z",
     "iopub.status.busy": "2021-12-27T21:15:41.704896Z",
     "iopub.status.idle": "2021-12-27T21:15:41.720629Z",
     "shell.execute_reply": "2021-12-27T21:15:41.719795Z",
     "shell.execute_reply.started": "2021-12-27T21:15:41.705199Z"
    },
    "tags": []
   },
   "outputs": [
    {
     "data": {
      "text/html": [
       "<div>\n",
       "<style scoped>\n",
       "    .dataframe tbody tr th:only-of-type {\n",
       "        vertical-align: middle;\n",
       "    }\n",
       "\n",
       "    .dataframe tbody tr th {\n",
       "        vertical-align: top;\n",
       "    }\n",
       "\n",
       "    .dataframe thead th {\n",
       "        text-align: right;\n",
       "    }\n",
       "</style>\n",
       "<table border=\"1\" class=\"dataframe\">\n",
       "  <thead>\n",
       "    <tr style=\"text-align: right;\">\n",
       "      <th></th>\n",
       "      <th>sharpe_ratio</th>\n",
       "      <th>sortino_ratio</th>\n",
       "      <th>information_ratio</th>\n",
       "      <th>m2_ratio</th>\n",
       "    </tr>\n",
       "  </thead>\n",
       "  <tbody>\n",
       "    <tr>\n",
       "      <th>soros_fund_management_llc</th>\n",
       "      <td>-0.218074</td>\n",
       "      <td>-0.246034</td>\n",
       "      <td>-0.792278</td>\n",
       "      <td>-0.039983</td>\n",
       "    </tr>\n",
       "    <tr>\n",
       "      <th>paulson_&amp;_co.inc.</th>\n",
       "      <td>-0.095913</td>\n",
       "      <td>-0.117876</td>\n",
       "      <td>-0.776491</td>\n",
       "      <td>-0.017585</td>\n",
       "    </tr>\n",
       "    <tr>\n",
       "      <th>tiger_global_management_llc</th>\n",
       "      <td>0.564186</td>\n",
       "      <td>0.666718</td>\n",
       "      <td>-0.698932</td>\n",
       "      <td>0.103441</td>\n",
       "    </tr>\n",
       "    <tr>\n",
       "      <th>berkshire_hathaway_inc</th>\n",
       "      <td>0.528679</td>\n",
       "      <td>0.701791</td>\n",
       "      <td>-0.610553</td>\n",
       "      <td>0.096931</td>\n",
       "    </tr>\n",
       "    <tr>\n",
       "      <th>s&amp;p_500</th>\n",
       "      <td>0.714305</td>\n",
       "      <td>0.894260</td>\n",
       "      <td>NaN</td>\n",
       "      <td>NaN</td>\n",
       "    </tr>\n",
       "  </tbody>\n",
       "</table>\n",
       "</div>"
      ],
      "text/plain": [
       "                             sharpe_ratio  sortino_ratio  information_ratio  \\\n",
       "soros_fund_management_llc       -0.218074      -0.246034          -0.792278   \n",
       "paulson_&_co.inc.               -0.095913      -0.117876          -0.776491   \n",
       "tiger_global_management_llc      0.564186       0.666718          -0.698932   \n",
       "berkshire_hathaway_inc           0.528679       0.701791          -0.610553   \n",
       "s&p_500                          0.714305       0.894260                NaN   \n",
       "\n",
       "                             m2_ratio  \n",
       "soros_fund_management_llc   -0.039983  \n",
       "paulson_&_co.inc.           -0.017585  \n",
       "tiger_global_management_llc  0.103441  \n",
       "berkshire_hathaway_inc       0.096931  \n",
       "s&p_500                           NaN  "
      ]
     },
     "execution_count": 7,
     "metadata": {},
     "output_type": "execute_result"
    }
   ],
   "source": [
    "# Calculate the Modigliani Ratio\n",
    "benchmark_annl_volatility = daily_returns['s&p_500'].std() * np.sqrt(252)\n",
    "risk_ratios_df['m2_ratio'] = risk_ratios_df.iloc[:-1, 0].mul(\n",
    "    benchmark_annl_volatility,\n",
    "    axis='index'\n",
    ") + 0  # 0 represents the risk-free rate of return\n",
    "risk_ratios_df"
   ]
  },
  {
   "cell_type": "markdown",
   "id": "1080c0fc-cc00-4784-9feb-b8fc517fba4b",
   "metadata": {},
   "source": [
    "## Calmar Ratio  \n",
    "---  \n",
    "The Calmar Ratio is another one that seeks to assess returns per unit of risk without penalizing exceptional upside gains. What makes this ratio different is it replaces the standard deviation as the denominator with the max drawdown."
   ]
  },
  {
   "cell_type": "code",
   "execution_count": 8,
   "id": "45e3ba09-f492-4f5c-ace7-629b9d8fd06c",
   "metadata": {
    "execution": {
     "iopub.execute_input": "2021-12-27T21:15:41.722315Z",
     "iopub.status.busy": "2021-12-27T21:15:41.722040Z",
     "iopub.status.idle": "2021-12-27T21:15:41.735655Z",
     "shell.execute_reply": "2021-12-27T21:15:41.734881Z",
     "shell.execute_reply.started": "2021-12-27T21:15:41.722285Z"
    },
    "tags": []
   },
   "outputs": [
    {
     "data": {
      "text/plain": [
       "soros_fund_management_llc     -0.064800\n",
       "paulson_&_co.inc.             -0.063287\n",
       "tiger_global_management_llc   -0.017340\n",
       "berkshire_hathaway_inc        -0.120894\n",
       "s&p_500                       -0.201785\n",
       "dtype: float64"
      ]
     },
     "execution_count": 8,
     "metadata": {},
     "output_type": "execute_result"
    }
   ],
   "source": [
    "# Calculate the max drawdown for each portfolio.\n",
    "cum_returns = (daily_returns_analyze + 1).cumprod()\n",
    "peak = cum_returns.expanding(min_periods=1).max()\n",
    "drawdown = ((cum_returns / peak) - 1).min()\n",
    "drawdown"
   ]
  },
  {
   "cell_type": "code",
   "execution_count": 9,
   "id": "c985732c-6292-447d-99dd-42f6b95c6d74",
   "metadata": {
    "execution": {
     "iopub.execute_input": "2021-12-27T21:15:41.737159Z",
     "iopub.status.busy": "2021-12-27T21:15:41.736717Z",
     "iopub.status.idle": "2021-12-27T21:15:41.751750Z",
     "shell.execute_reply": "2021-12-27T21:15:41.750611Z",
     "shell.execute_reply.started": "2021-12-27T21:15:41.737128Z"
    },
    "tags": []
   },
   "outputs": [
    {
     "data": {
      "text/html": [
       "<div>\n",
       "<style scoped>\n",
       "    .dataframe tbody tr th:only-of-type {\n",
       "        vertical-align: middle;\n",
       "    }\n",
       "\n",
       "    .dataframe tbody tr th {\n",
       "        vertical-align: top;\n",
       "    }\n",
       "\n",
       "    .dataframe thead th {\n",
       "        text-align: right;\n",
       "    }\n",
       "</style>\n",
       "<table border=\"1\" class=\"dataframe\">\n",
       "  <thead>\n",
       "    <tr style=\"text-align: right;\">\n",
       "      <th></th>\n",
       "      <th>sharpe_ratio</th>\n",
       "      <th>sortino_ratio</th>\n",
       "      <th>information_ratio</th>\n",
       "      <th>m2_ratio</th>\n",
       "      <th>calmar_ratio</th>\n",
       "    </tr>\n",
       "  </thead>\n",
       "  <tbody>\n",
       "    <tr>\n",
       "      <th>soros_fund_management_llc</th>\n",
       "      <td>-0.218074</td>\n",
       "      <td>-0.246034</td>\n",
       "      <td>-0.792278</td>\n",
       "      <td>-0.039983</td>\n",
       "      <td>-0.056719</td>\n",
       "    </tr>\n",
       "    <tr>\n",
       "      <th>paulson_&amp;_co.inc.</th>\n",
       "      <td>-0.095913</td>\n",
       "      <td>-0.117876</td>\n",
       "      <td>-0.776491</td>\n",
       "      <td>-0.017585</td>\n",
       "      <td>-0.038183</td>\n",
       "    </tr>\n",
       "    <tr>\n",
       "      <th>tiger_global_management_llc</th>\n",
       "      <td>0.564186</td>\n",
       "      <td>0.666718</td>\n",
       "      <td>-0.698932</td>\n",
       "      <td>0.103441</td>\n",
       "      <td>0.274038</td>\n",
       "    </tr>\n",
       "    <tr>\n",
       "      <th>berkshire_hathaway_inc</th>\n",
       "      <td>0.528679</td>\n",
       "      <td>0.701791</td>\n",
       "      <td>-0.610553</td>\n",
       "      <td>0.096931</td>\n",
       "      <td>0.209938</td>\n",
       "    </tr>\n",
       "    <tr>\n",
       "      <th>s&amp;p_500</th>\n",
       "      <td>0.714305</td>\n",
       "      <td>0.894260</td>\n",
       "      <td>NaN</td>\n",
       "      <td>NaN</td>\n",
       "      <td>0.486772</td>\n",
       "    </tr>\n",
       "  </tbody>\n",
       "</table>\n",
       "</div>"
      ],
      "text/plain": [
       "                             sharpe_ratio  sortino_ratio  information_ratio  \\\n",
       "soros_fund_management_llc       -0.218074      -0.246034          -0.792278   \n",
       "paulson_&_co.inc.               -0.095913      -0.117876          -0.776491   \n",
       "tiger_global_management_llc      0.564186       0.666718          -0.698932   \n",
       "berkshire_hathaway_inc           0.528679       0.701791          -0.610553   \n",
       "s&p_500                          0.714305       0.894260                NaN   \n",
       "\n",
       "                             m2_ratio  calmar_ratio  \n",
       "soros_fund_management_llc   -0.039983     -0.056719  \n",
       "paulson_&_co.inc.           -0.017585     -0.038183  \n",
       "tiger_global_management_llc  0.103441      0.274038  \n",
       "berkshire_hathaway_inc       0.096931      0.209938  \n",
       "s&p_500                           NaN      0.486772  "
      ]
     },
     "execution_count": 9,
     "metadata": {},
     "output_type": "execute_result"
    }
   ],
   "source": [
    "# Calculate the Calmar Ratio\n",
    "risk_ratios_df['calmar_ratio'] = avg_annl_rtn / abs(drawdown)\n",
    "risk_ratios_df"
   ]
  },
  {
   "cell_type": "markdown",
   "id": "0137491d-634c-4bc7-9182-0f558351c926",
   "metadata": {},
   "source": [
    "## Analysis  \n",
    "---"
   ]
  },
  {
   "cell_type": "code",
   "execution_count": 13,
   "id": "53be4ea2-1196-408b-a7b4-d44cea2b66e5",
   "metadata": {
    "execution": {
     "iopub.execute_input": "2021-12-27T21:18:28.494151Z",
     "iopub.status.busy": "2021-12-27T21:18:28.493774Z",
     "iopub.status.idle": "2021-12-27T21:18:28.502272Z",
     "shell.execute_reply": "2021-12-27T21:18:28.501463Z",
     "shell.execute_reply.started": "2021-12-27T21:18:28.494106Z"
    },
    "tags": []
   },
   "outputs": [
    {
     "data": {
      "text/plain": [
       "paulson_&_co.inc.              0.970911\n",
       "soros_fund_management_llc      1.003841\n",
       "tiger_global_management_llc    1.030781\n",
       "berkshire_hathaway_inc         1.097120\n",
       "s&p_500                        1.108766\n",
       "Name: 2020-09-11 00:00:00, dtype: float64"
      ]
     },
     "execution_count": 13,
     "metadata": {},
     "output_type": "execute_result"
    }
   ],
   "source": [
    "# Calculate cumulative returns for the holdout period.\n",
    "cum_returns_holdout = (daily_returns_holdout + 1).cumprod()\n",
    "cum_returns_holdout.iloc[-1].sort_values()"
   ]
  },
  {
   "cell_type": "code",
   "execution_count": 16,
   "id": "01485468-f2af-4ad0-b414-882580c2fc37",
   "metadata": {
    "execution": {
     "iopub.execute_input": "2021-12-27T21:20:22.516484Z",
     "iopub.status.busy": "2021-12-27T21:20:22.516130Z",
     "iopub.status.idle": "2021-12-27T21:20:22.523794Z",
     "shell.execute_reply": "2021-12-27T21:20:22.522896Z",
     "shell.execute_reply.started": "2021-12-27T21:20:22.516449Z"
    },
    "tags": []
   },
   "outputs": [
    {
     "name": "stdout",
     "output_type": "stream",
     "text": [
      "Mean of Risk-Reward Ratios for each Portfolio and the S&P 500\n",
      "\n"
     ]
    },
    {
     "data": {
      "text/plain": [
       "soros_fund_management_llc     -0.270617\n",
       "paulson_&_co.inc.             -0.209210\n",
       "tiger_global_management_llc    0.181890\n",
       "berkshire_hathaway_inc         0.185357\n",
       "s&p_500                        0.698446\n",
       "dtype: float64"
      ]
     },
     "metadata": {},
     "output_type": "display_data"
    }
   ],
   "source": [
    "print(\"Mean of Risk-Reward Ratios for each Portfolio and the S&P 500\\n\")\n",
    "display(risk_ratios_df.mean(axis=1))"
   ]
  },
  {
   "cell_type": "code",
   "execution_count": 17,
   "id": "010217b4-26ee-4c13-9df9-ce577fb35bb7",
   "metadata": {
    "execution": {
     "iopub.execute_input": "2021-12-27T21:22:22.024244Z",
     "iopub.status.busy": "2021-12-27T21:22:22.024002Z",
     "iopub.status.idle": "2021-12-27T21:22:22.305130Z",
     "shell.execute_reply": "2021-12-27T21:22:22.304520Z",
     "shell.execute_reply.started": "2021-12-27T21:22:22.024217Z"
    }
   },
   "outputs": [
    {
     "data": {
      "image/png": "[encoded data removed]",
      "text/plain": [
       "<Figure size 864x576 with 1 Axes>"
      ]
     },
     "metadata": {
      "needs_background": "light"
     },
     "output_type": "display_data"
    }
   ],
   "source": [
    "cum_returns_holdout.plot(\n",
    "    figsize=(12, 8),\n",
    "    title=\"Cumulative Returns for Holdout Period\",\n",
    "    legend=True\n",
    ");"
   ]
  },
  {
   "cell_type": "markdown",
   "id": "6051ae13-6360-4652-8d33-23734abdce91",
   "metadata": {},
   "source": [
    "If any or all of the ratios that were calculated on the data from the analysis period had been used to select the fund portfolio or index most likely to offer the best returns per unit of assumed risk the top three assets would have been selected in their order of performance.  \n",
    "\n",
    "The cumulative returns chart shows for the holdout period that the S&P 500 out-performed all of the fund portfolios, but did also suffer the largest drawdown. As long as panic selling didn't take place the SPY index was the best choice, but Berkshire Hathaway performed almost as well with a much smoother ride during a very tumulchuous time in the markets (March 2020)."
   ]
  }
 ],
 "metadata": {
  "kernelspec": {
   "display_name": "uwft-py37",
   "language": "python",
   "name": "uwft-py37"
  },
  "language_info": {
   "codemirror_mode": {
    "name": "ipython",
    "version": 3
   },
   "file_extension": ".py",
   "mimetype": "text/x-python",
   "name": "python",
   "nbconvert_exporter": "python",
   "pygments_lexer": "ipython3",
   "version": "3.7.10"
  }
 },
 "nbformat": 4,
 "nbformat_minor": 5
}
