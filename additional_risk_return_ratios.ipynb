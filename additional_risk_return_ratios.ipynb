{
 "cells": [
  {
   "cell_type": "code",
   "execution_count": 1,
   "id": "a4c029da-3d95-496c-91e5-067e7349c245",
   "metadata": {
    "execution": {
     "iopub.execute_input": "2021-12-26T21:33:37.949229Z",
     "iopub.status.busy": "2021-12-26T21:33:37.948901Z",
     "iopub.status.idle": "2021-12-26T21:33:40.851058Z",
     "shell.execute_reply": "2021-12-26T21:33:40.850454Z",
     "shell.execute_reply.started": "2021-12-26T21:33:37.949195Z"
    }
   },
   "outputs": [],
   "source": [
    "# Import the required libraries and dependencies\n",
    "import numpy as np\n",
    "import pandas as pd\n",
    "import matplotlib.pyplot as plt\n",
    "import seaborn as sns\n",
    "from pathlib import Path\n",
    "\n",
    "plt.style.use('ggplot')\n",
    "%matplotlib inline"
   ]
  },
  {
   "cell_type": "code",
   "execution_count": 2,
   "id": "84671dd2-7fd8-4407-8967-37ff85150ee2",
   "metadata": {
    "execution": {
     "iopub.execute_input": "2021-12-26T21:33:49.477363Z",
     "iopub.status.busy": "2021-12-26T21:33:49.469889Z",
     "iopub.status.idle": "2021-12-26T21:33:49.515324Z",
     "shell.execute_reply": "2021-12-26T21:33:49.512857Z",
     "shell.execute_reply.started": "2021-12-26T21:33:49.477311Z"
    }
   },
   "outputs": [
    {
     "data": {
      "text/html": [
       "<div>\n",
       "<style scoped>\n",
       "    .dataframe tbody tr th:only-of-type {\n",
       "        vertical-align: middle;\n",
       "    }\n",
       "\n",
       "    .dataframe tbody tr th {\n",
       "        vertical-align: top;\n",
       "    }\n",
       "\n",
       "    .dataframe thead th {\n",
       "        text-align: right;\n",
       "    }\n",
       "</style>\n",
       "<table border=\"1\" class=\"dataframe\">\n",
       "  <thead>\n",
       "    <tr style=\"text-align: right;\">\n",
       "      <th></th>\n",
       "      <th>soros_fund_management_llc</th>\n",
       "      <th>paulson_&amp;_co.inc.</th>\n",
       "      <th>tiger_global_management_llc</th>\n",
       "      <th>berkshire_hathaway_inc</th>\n",
       "      <th>s&amp;p_500</th>\n",
       "    </tr>\n",
       "    <tr>\n",
       "      <th>date</th>\n",
       "      <th></th>\n",
       "      <th></th>\n",
       "      <th></th>\n",
       "      <th></th>\n",
       "      <th></th>\n",
       "    </tr>\n",
       "  </thead>\n",
       "  <tbody>\n",
       "    <tr>\n",
       "      <th>2014-10-01</th>\n",
       "      <td>31.950240</td>\n",
       "      <td>14.991826</td>\n",
       "      <td>59.977830</td>\n",
       "      <td>51.948712</td>\n",
       "      <td>194.35</td>\n",
       "    </tr>\n",
       "    <tr>\n",
       "      <th>2014-10-02</th>\n",
       "      <td>31.936110</td>\n",
       "      <td>14.994072</td>\n",
       "      <td>59.978626</td>\n",
       "      <td>51.957619</td>\n",
       "      <td>194.38</td>\n",
       "    </tr>\n",
       "    <tr>\n",
       "      <th>2014-10-03</th>\n",
       "      <td>31.969707</td>\n",
       "      <td>14.999596</td>\n",
       "      <td>60.002264</td>\n",
       "      <td>52.022484</td>\n",
       "      <td>196.52</td>\n",
       "    </tr>\n",
       "    <tr>\n",
       "      <th>2014-10-06</th>\n",
       "      <td>32.048215</td>\n",
       "      <td>14.999471</td>\n",
       "      <td>60.006244</td>\n",
       "      <td>52.036387</td>\n",
       "      <td>196.29</td>\n",
       "    </tr>\n",
       "    <tr>\n",
       "      <th>2014-10-07</th>\n",
       "      <td>31.964216</td>\n",
       "      <td>14.994720</td>\n",
       "      <td>59.993735</td>\n",
       "      <td>52.005864</td>\n",
       "      <td>193.26</td>\n",
       "    </tr>\n",
       "  </tbody>\n",
       "</table>\n",
       "</div>"
      ],
      "text/plain": [
       "            soros_fund_management_llc  paulson_&_co.inc.  \\\n",
       "date                                                       \n",
       "2014-10-01                  31.950240          14.991826   \n",
       "2014-10-02                  31.936110          14.994072   \n",
       "2014-10-03                  31.969707          14.999596   \n",
       "2014-10-06                  32.048215          14.999471   \n",
       "2014-10-07                  31.964216          14.994720   \n",
       "\n",
       "            tiger_global_management_llc  berkshire_hathaway_inc  s&p_500  \n",
       "date                                                                      \n",
       "2014-10-01                    59.977830               51.948712   194.35  \n",
       "2014-10-02                    59.978626               51.957619   194.38  \n",
       "2014-10-03                    60.002264               52.022484   196.52  \n",
       "2014-10-06                    60.006244               52.036387   196.29  \n",
       "2014-10-07                    59.993735               52.005864   193.26  "
      ]
     },
     "execution_count": 2,
     "metadata": {},
     "output_type": "execute_result"
    }
   ],
   "source": [
    "# Import the data by reading in the CSV file and setting the DatetimeIndex \n",
    "# Review the first 5 rows of the DataFrame\n",
    "fund_df = pd.read_csv(\n",
    "    Path('Resources/whale_navs.csv'),\n",
    "    index_col='date',\n",
    "    parse_dates=True,\n",
    "    infer_datetime_format=True\n",
    ")\n",
    "fund_df.columns = [name.lower().replace(' ', '_') for name in fund_df.columns]\n",
    "fund_df.head()"
   ]
  },
  {
   "cell_type": "code",
   "execution_count": 3,
   "id": "4f999ce3-077d-4c10-9710-4eeb9a7aa22d",
   "metadata": {
    "execution": {
     "iopub.execute_input": "2021-12-26T21:34:02.159723Z",
     "iopub.status.busy": "2021-12-26T21:34:02.159474Z",
     "iopub.status.idle": "2021-12-26T21:34:02.175301Z",
     "shell.execute_reply": "2021-12-26T21:34:02.174134Z",
     "shell.execute_reply.started": "2021-12-26T21:34:02.159700Z"
    }
   },
   "outputs": [
    {
     "data": {
      "text/html": [
       "<div>\n",
       "<style scoped>\n",
       "    .dataframe tbody tr th:only-of-type {\n",
       "        vertical-align: middle;\n",
       "    }\n",
       "\n",
       "    .dataframe tbody tr th {\n",
       "        vertical-align: top;\n",
       "    }\n",
       "\n",
       "    .dataframe thead th {\n",
       "        text-align: right;\n",
       "    }\n",
       "</style>\n",
       "<table border=\"1\" class=\"dataframe\">\n",
       "  <thead>\n",
       "    <tr style=\"text-align: right;\">\n",
       "      <th></th>\n",
       "      <th>soros_fund_management_llc</th>\n",
       "      <th>paulson_&amp;_co.inc.</th>\n",
       "      <th>tiger_global_management_llc</th>\n",
       "      <th>berkshire_hathaway_inc</th>\n",
       "      <th>s&amp;p_500</th>\n",
       "    </tr>\n",
       "    <tr>\n",
       "      <th>date</th>\n",
       "      <th></th>\n",
       "      <th></th>\n",
       "      <th></th>\n",
       "      <th></th>\n",
       "      <th></th>\n",
       "    </tr>\n",
       "  </thead>\n",
       "  <tbody>\n",
       "    <tr>\n",
       "      <th>2014-10-02</th>\n",
       "      <td>-0.000442</td>\n",
       "      <td>0.000150</td>\n",
       "      <td>0.000013</td>\n",
       "      <td>0.000171</td>\n",
       "      <td>0.000154</td>\n",
       "    </tr>\n",
       "    <tr>\n",
       "      <th>2014-10-03</th>\n",
       "      <td>0.001052</td>\n",
       "      <td>0.000368</td>\n",
       "      <td>0.000394</td>\n",
       "      <td>0.001248</td>\n",
       "      <td>0.011009</td>\n",
       "    </tr>\n",
       "    <tr>\n",
       "      <th>2014-10-06</th>\n",
       "      <td>0.002456</td>\n",
       "      <td>-0.000008</td>\n",
       "      <td>0.000066</td>\n",
       "      <td>0.000267</td>\n",
       "      <td>-0.001170</td>\n",
       "    </tr>\n",
       "    <tr>\n",
       "      <th>2014-10-07</th>\n",
       "      <td>-0.002621</td>\n",
       "      <td>-0.000317</td>\n",
       "      <td>-0.000208</td>\n",
       "      <td>-0.000587</td>\n",
       "      <td>-0.015436</td>\n",
       "    </tr>\n",
       "    <tr>\n",
       "      <th>2014-10-08</th>\n",
       "      <td>0.000390</td>\n",
       "      <td>0.000369</td>\n",
       "      <td>0.000242</td>\n",
       "      <td>0.000842</td>\n",
       "      <td>0.017489</td>\n",
       "    </tr>\n",
       "  </tbody>\n",
       "</table>\n",
       "</div>"
      ],
      "text/plain": [
       "            soros_fund_management_llc  paulson_&_co.inc.  \\\n",
       "date                                                       \n",
       "2014-10-02                  -0.000442           0.000150   \n",
       "2014-10-03                   0.001052           0.000368   \n",
       "2014-10-06                   0.002456          -0.000008   \n",
       "2014-10-07                  -0.002621          -0.000317   \n",
       "2014-10-08                   0.000390           0.000369   \n",
       "\n",
       "            tiger_global_management_llc  berkshire_hathaway_inc   s&p_500  \n",
       "date                                                                       \n",
       "2014-10-02                     0.000013                0.000171  0.000154  \n",
       "2014-10-03                     0.000394                0.001248  0.011009  \n",
       "2014-10-06                     0.000066                0.000267 -0.001170  \n",
       "2014-10-07                    -0.000208               -0.000587 -0.015436  \n",
       "2014-10-08                     0.000242                0.000842  0.017489  "
      ]
     },
     "execution_count": 3,
     "metadata": {},
     "output_type": "execute_result"
    }
   ],
   "source": [
    "# Prepare for the analysis by converting the dataframe of NAVs and prices to daily returns\n",
    "# Drop any rows with all missing values\n",
    "# Review the first five rows of the daily returns DataFrame.\n",
    "daily_returns = fund_df.pct_change().dropna(axis=0, how='all').copy()\n",
    "daily_returns.head()"
   ]
  },
  {
   "cell_type": "code",
   "execution_count": 7,
   "id": "268e348b-53a1-4896-89e3-77744bcc5a76",
   "metadata": {
    "execution": {
     "iopub.execute_input": "2021-12-26T21:37:17.153692Z",
     "iopub.status.busy": "2021-12-26T21:37:17.153349Z",
     "iopub.status.idle": "2021-12-26T21:37:17.165439Z",
     "shell.execute_reply": "2021-12-26T21:37:17.164618Z",
     "shell.execute_reply.started": "2021-12-26T21:37:17.153659Z"
    },
    "tags": []
   },
   "outputs": [
    {
     "data": {
      "text/html": [
       "<div>\n",
       "<style scoped>\n",
       "    .dataframe tbody tr th:only-of-type {\n",
       "        vertical-align: middle;\n",
       "    }\n",
       "\n",
       "    .dataframe tbody tr th {\n",
       "        vertical-align: top;\n",
       "    }\n",
       "\n",
       "    .dataframe thead th {\n",
       "        text-align: right;\n",
       "    }\n",
       "</style>\n",
       "<table border=\"1\" class=\"dataframe\">\n",
       "  <thead>\n",
       "    <tr style=\"text-align: right;\">\n",
       "      <th></th>\n",
       "      <th>sharpe_ratio</th>\n",
       "    </tr>\n",
       "  </thead>\n",
       "  <tbody>\n",
       "    <tr>\n",
       "      <th>soros_fund_management_llc</th>\n",
       "      <td>-0.102290</td>\n",
       "    </tr>\n",
       "    <tr>\n",
       "      <th>paulson_&amp;_co.inc.</th>\n",
       "      <td>-0.189998</td>\n",
       "    </tr>\n",
       "    <tr>\n",
       "      <th>tiger_global_management_llc</th>\n",
       "      <td>0.579002</td>\n",
       "    </tr>\n",
       "    <tr>\n",
       "      <th>berkshire_hathaway_inc</th>\n",
       "      <td>0.717512</td>\n",
       "    </tr>\n",
       "    <tr>\n",
       "      <th>s&amp;p_500</th>\n",
       "      <td>0.589612</td>\n",
       "    </tr>\n",
       "  </tbody>\n",
       "</table>\n",
       "</div>"
      ],
      "text/plain": [
       "                             sharpe_ratio\n",
       "soros_fund_management_llc       -0.102290\n",
       "paulson_&_co.inc.               -0.189998\n",
       "tiger_global_management_llc      0.579002\n",
       "berkshire_hathaway_inc           0.717512\n",
       "s&p_500                          0.589612"
      ]
     },
     "execution_count": 7,
     "metadata": {},
     "output_type": "execute_result"
    }
   ],
   "source": [
    "# Calculate the annual average return data for the for fund portfolios and the S&P 500\n",
    "# Use 252 as the number of trading days in the year\n",
    "# Review the annual average returns sorted from lowest to highest\n",
    "avg_annl_rtn = (daily_returns.mean() * 252)\n",
    "\n",
    "# Calculate the annualized Sharpe Ratios for each of the 4 portfolios and the S&P 500.\n",
    "# Review the Sharpe ratios sorted lowest to highest\n",
    "\n",
    "# Calculate the annualized standard deviaton.\n",
    "std_dev_annl = (daily_returns.std() * np.sqrt(252))\n",
    "\n",
    "# Calculate the Sharpe Ratio.\n",
    "risk_ratios_df = pd.DataFrame(\n",
    "    avg_annl_rtn / std_dev_annl,\n",
    "    columns=['sharpe_ratio']\n",
    ")\n",
    "risk_ratios_df"
   ]
  },
  {
   "cell_type": "code",
   "execution_count": 9,
   "id": "ca8cbb00-22ac-4467-90c1-03283cab80d4",
   "metadata": {
    "execution": {
     "iopub.execute_input": "2021-12-26T21:37:27.963979Z",
     "iopub.status.busy": "2021-12-26T21:37:27.963679Z",
     "iopub.status.idle": "2021-12-26T21:37:27.975752Z",
     "shell.execute_reply": "2021-12-26T21:37:27.975044Z",
     "shell.execute_reply.started": "2021-12-26T21:37:27.963946Z"
    },
    "tags": []
   },
   "outputs": [
    {
     "data": {
      "text/html": [
       "<div>\n",
       "<style scoped>\n",
       "    .dataframe tbody tr th:only-of-type {\n",
       "        vertical-align: middle;\n",
       "    }\n",
       "\n",
       "    .dataframe tbody tr th {\n",
       "        vertical-align: top;\n",
       "    }\n",
       "\n",
       "    .dataframe thead th {\n",
       "        text-align: right;\n",
       "    }\n",
       "</style>\n",
       "<table border=\"1\" class=\"dataframe\">\n",
       "  <thead>\n",
       "    <tr style=\"text-align: right;\">\n",
       "      <th></th>\n",
       "      <th>sharpe_ratio</th>\n",
       "      <th>sortino_ratio</th>\n",
       "    </tr>\n",
       "  </thead>\n",
       "  <tbody>\n",
       "    <tr>\n",
       "      <th>soros_fund_management_llc</th>\n",
       "      <td>-0.102290</td>\n",
       "      <td>-0.110985</td>\n",
       "    </tr>\n",
       "    <tr>\n",
       "      <th>paulson_&amp;_co.inc.</th>\n",
       "      <td>-0.189998</td>\n",
       "      <td>-0.223319</td>\n",
       "    </tr>\n",
       "    <tr>\n",
       "      <th>tiger_global_management_llc</th>\n",
       "      <td>0.579002</td>\n",
       "      <td>0.624359</td>\n",
       "    </tr>\n",
       "    <tr>\n",
       "      <th>berkshire_hathaway_inc</th>\n",
       "      <td>0.717512</td>\n",
       "      <td>0.937573</td>\n",
       "    </tr>\n",
       "    <tr>\n",
       "      <th>s&amp;p_500</th>\n",
       "      <td>0.589612</td>\n",
       "      <td>0.665381</td>\n",
       "    </tr>\n",
       "  </tbody>\n",
       "</table>\n",
       "</div>"
      ],
      "text/plain": [
       "                             sharpe_ratio  sortino_ratio\n",
       "soros_fund_management_llc       -0.102290      -0.110985\n",
       "paulson_&_co.inc.               -0.189998      -0.223319\n",
       "tiger_global_management_llc      0.579002       0.624359\n",
       "berkshire_hathaway_inc           0.717512       0.937573\n",
       "s&p_500                          0.589612       0.665381"
      ]
     },
     "execution_count": 9,
     "metadata": {},
     "output_type": "execute_result"
    }
   ],
   "source": [
    "# Calculate the annualized standard deviation\n",
    "# for losses only.\n",
    "neg_std_dev_annl = (daily_returns[daily_returns < 0].std() * np.sqrt(252))\n",
    "\n",
    "# Calculate the Sortino ratio\n",
    "risk_ratios_df['sortino_ratio'] = avg_annl_rtn / neg_std_dev_annl\n",
    "risk_ratios_df"
   ]
  },
  {
   "cell_type": "code",
   "execution_count": 12,
   "id": "66307962-07fd-4882-8a4e-ff99d5b3cedc",
   "metadata": {
    "execution": {
     "iopub.execute_input": "2021-12-26T21:39:02.445728Z",
     "iopub.status.busy": "2021-12-26T21:39:02.445426Z",
     "iopub.status.idle": "2021-12-26T21:39:02.451513Z",
     "shell.execute_reply": "2021-12-26T21:39:02.450763Z",
     "shell.execute_reply.started": "2021-12-26T21:39:02.445696Z"
    },
    "tags": []
   },
   "outputs": [
    {
     "data": {
      "text/plain": [
       "['soros_fund_management_llc',\n",
       " 'paulson_&_co.inc.',\n",
       " 'tiger_global_management_llc',\n",
       " 'berkshire_hathaway_inc']"
      ]
     },
     "execution_count": 12,
     "metadata": {},
     "output_type": "execute_result"
    }
   ],
   "source": [
    "ratios_index = risk_ratios_df.index.to_list()[:-1]\n",
    "ratios_index"
   ]
  },
  {
   "cell_type": "code",
   "execution_count": 13,
   "id": "d9f01a53-dd9a-4ec9-82d2-5fb387289735",
   "metadata": {
    "execution": {
     "iopub.execute_input": "2021-12-26T21:39:37.458759Z",
     "iopub.status.busy": "2021-12-26T21:39:37.458466Z",
     "iopub.status.idle": "2021-12-26T21:39:37.465708Z",
     "shell.execute_reply": "2021-12-26T21:39:37.464916Z",
     "shell.execute_reply.started": "2021-12-26T21:39:37.458730Z"
    }
   },
   "outputs": [
    {
     "data": {
      "text/plain": [
       "soros_fund_management_llc      1\n",
       "paulson_&_co.inc.              2\n",
       "tiger_global_management_llc    3\n",
       "berkshire_hathaway_inc         4\n",
       "dtype: int64"
      ]
     },
     "execution_count": 13,
     "metadata": {},
     "output_type": "execute_result"
    }
   ],
   "source": [
    "test_series = pd.Series([1, 2, 3, 4], ratios_index)\n",
    "test_series"
   ]
  },
  {
   "cell_type": "code",
   "execution_count": 14,
   "id": "898bdabb-e0ca-41a1-9c6c-e69815ace728",
   "metadata": {
    "execution": {
     "iopub.execute_input": "2021-12-26T21:39:55.323941Z",
     "iopub.status.busy": "2021-12-26T21:39:55.323491Z",
     "iopub.status.idle": "2021-12-26T21:39:55.335246Z",
     "shell.execute_reply": "2021-12-26T21:39:55.334383Z",
     "shell.execute_reply.started": "2021-12-26T21:39:55.323883Z"
    }
   },
   "outputs": [],
   "source": [
    "risk_ratios_df['test'] = test_series"
   ]
  },
  {
   "cell_type": "code",
   "execution_count": 15,
   "id": "3584215e-6083-42ca-be86-e8ffebe8ae2b",
   "metadata": {
    "execution": {
     "iopub.execute_input": "2021-12-26T21:39:58.651987Z",
     "iopub.status.busy": "2021-12-26T21:39:58.651684Z",
     "iopub.status.idle": "2021-12-26T21:39:58.662029Z",
     "shell.execute_reply": "2021-12-26T21:39:58.661238Z",
     "shell.execute_reply.started": "2021-12-26T21:39:58.651954Z"
    }
   },
   "outputs": [
    {
     "data": {
      "text/html": [
       "<div>\n",
       "<style scoped>\n",
       "    .dataframe tbody tr th:only-of-type {\n",
       "        vertical-align: middle;\n",
       "    }\n",
       "\n",
       "    .dataframe tbody tr th {\n",
       "        vertical-align: top;\n",
       "    }\n",
       "\n",
       "    .dataframe thead th {\n",
       "        text-align: right;\n",
       "    }\n",
       "</style>\n",
       "<table border=\"1\" class=\"dataframe\">\n",
       "  <thead>\n",
       "    <tr style=\"text-align: right;\">\n",
       "      <th></th>\n",
       "      <th>sharpe_ratio</th>\n",
       "      <th>sortino_ratio</th>\n",
       "      <th>test</th>\n",
       "    </tr>\n",
       "  </thead>\n",
       "  <tbody>\n",
       "    <tr>\n",
       "      <th>soros_fund_management_llc</th>\n",
       "      <td>-0.102290</td>\n",
       "      <td>-0.110985</td>\n",
       "      <td>1.0</td>\n",
       "    </tr>\n",
       "    <tr>\n",
       "      <th>paulson_&amp;_co.inc.</th>\n",
       "      <td>-0.189998</td>\n",
       "      <td>-0.223319</td>\n",
       "      <td>2.0</td>\n",
       "    </tr>\n",
       "    <tr>\n",
       "      <th>tiger_global_management_llc</th>\n",
       "      <td>0.579002</td>\n",
       "      <td>0.624359</td>\n",
       "      <td>3.0</td>\n",
       "    </tr>\n",
       "    <tr>\n",
       "      <th>berkshire_hathaway_inc</th>\n",
       "      <td>0.717512</td>\n",
       "      <td>0.937573</td>\n",
       "      <td>4.0</td>\n",
       "    </tr>\n",
       "    <tr>\n",
       "      <th>s&amp;p_500</th>\n",
       "      <td>0.589612</td>\n",
       "      <td>0.665381</td>\n",
       "      <td>NaN</td>\n",
       "    </tr>\n",
       "  </tbody>\n",
       "</table>\n",
       "</div>"
      ],
      "text/plain": [
       "                             sharpe_ratio  sortino_ratio  test\n",
       "soros_fund_management_llc       -0.102290      -0.110985   1.0\n",
       "paulson_&_co.inc.               -0.189998      -0.223319   2.0\n",
       "tiger_global_management_llc      0.579002       0.624359   3.0\n",
       "berkshire_hathaway_inc           0.717512       0.937573   4.0\n",
       "s&p_500                          0.589612       0.665381   NaN"
      ]
     },
     "execution_count": 15,
     "metadata": {},
     "output_type": "execute_result"
    }
   ],
   "source": [
    "risk_ratios_df"
   ]
  },
  {
   "cell_type": "code",
   "execution_count": null,
   "id": "655438fe-5c09-4748-ab2a-5d68d9554e0b",
   "metadata": {},
   "outputs": [],
   "source": []
  }
 ],
 "metadata": {
  "kernelspec": {
   "display_name": "uwft-py37",
   "language": "python",
   "name": "uwft-py37"
  },
  "language_info": {
   "codemirror_mode": {
    "name": "ipython",
    "version": 3
   },
   "file_extension": ".py",
   "mimetype": "text/x-python",
   "name": "python",
   "nbconvert_exporter": "python",
   "pygments_lexer": "ipython3",
   "version": "3.7.10"
  }
 },
 "nbformat": 4,
 "nbformat_minor": 5
}
